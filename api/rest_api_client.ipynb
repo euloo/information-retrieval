{
 "cells": [
  {
   "cell_type": "code",
   "execution_count": 1,
   "metadata": {
    "collapsed": true
   },
   "outputs": [],
   "source": [
    "import requests\n",
    "import json"
   ]
  },
  {
   "cell_type": "code",
   "execution_count": 2,
   "metadata": {
    "collapsed": true
   },
   "outputs": [],
   "source": [
    "username=''\n",
    "password=''"
   ]
  },
  {
   "cell_type": "markdown",
   "metadata": {},
   "source": [
    "### get_movies() (GET)\n",
    "\n",
    "Получить выборку из 100 случайных фильмов"
   ]
  },
  {
   "cell_type": "code",
   "execution_count": 6,
   "metadata": {},
   "outputs": [
    {
     "data": {
      "text/plain": [
       "{'movies': [{'id': '0000008',\n",
       "   'title': 'Edison Kinetoscopic Record of a Sneeze'},\n",
       "  {'id': '0006689', 'title': 'The Floorwalker'},\n",
       "  {'id': '0012364', 'title': 'The Phantom Carriage'},\n",
       "  {'id': '0015163', 'title': 'The Navigator'},\n",
       "  {'id': '0016847', 'title': 'Faust'},\n",
       "  {'id': '0018217', 'title': 'October (Ten Days that Shook the World)'},\n",
       "  {'id': '0019130', 'title': 'The Man Who Laughs'},\n",
       "  {'id': '0019729', 'title': 'The Broadway Melody'},\n",
       "  {'id': '0026778', 'title': 'A Night at the Opera'},\n",
       "  {'id': '0020678', 'title': 'Below Zero'},\n",
       "  {'id': '0021331', 'title': 'The Blood of a Poet'},\n",
       "  {'id': '0022125', 'title': 'Marius'},\n",
       "  {'id': '0022958', 'title': 'Grand Hotel'},\n",
       "  {'id': '0023349', 'title': 'Polly of the Circus'},\n",
       "  {'id': '0023848', 'title': 'Broadway to Hollywood'},\n",
       "  {'id': '0024216', 'title': 'King Kong'},\n",
       "  {'id': '0025004', 'title': 'The Count of Monte Cristo'},\n",
       "  {'id': '0025591', 'title': 'Oliver the Eighth'},\n",
       "  {'id': '0027630', 'title': 'Follow the Fleet'},\n",
       "  {'id': '0028241', 'title': 'Shadow of Chinatown'},\n",
       "  {'id': '0029499', 'title': 'Rosalie'},\n",
       "  {'id': '0029947', 'title': 'Bringing Up Baby'},\n",
       "  {'id': '0030993', 'title': \"You Can't Take It with You\"},\n",
       "  {'id': '0031448', 'title': 'The Hound of the Baskervilles'},\n",
       "  {'id': '0031867', 'title': 'The Roaring Twenties'},\n",
       "  {'id': '0032376', 'title': 'Dance, Girl, Dance'},\n",
       "  {'id': '0046345', 'title': 'Summer with Monika'},\n",
       "  {'id': '0032904', 'title': 'The Philadelphia Story'},\n",
       "  {'id': '0033553', 'title': 'Dr. Jekyll and Mr. Hyde'},\n",
       "  {'id': '0033945', 'title': 'Never Give a Sucker an Even Break'},\n",
       "  {'id': '0034522', 'title': 'The Black Swan'},\n",
       "  {'id': '0035015', 'title': 'The Magnificent Ambersons'},\n",
       "  {'id': '0035432', 'title': 'This Gun for Hire'},\n",
       "  {'id': '0035957', 'title': 'Guadalcanal Diary'},\n",
       "  {'id': '0036395', 'title': 'A Stranger in Town'},\n",
       "  {'id': '0036810', 'title': 'The Falcon in Hollywood'},\n",
       "  {'id': '0037318', 'title': 'Strangers in the Night'},\n",
       "  {'id': '0046672', 'title': '20,000 Leagues Under the Sea'},\n",
       "  {'id': '0037674', 'title': 'Children of Paradise'},\n",
       "  {'id': '0038213', 'title': 'The Valley of Decision'},\n",
       "  {'id': '0038574', 'title': 'Great Expectations'},\n",
       "  {'id': '0038975', 'title': 'The Spiral Staircase'},\n",
       "  {'id': '0039340', 'title': 'Dreams That Money Can Buy'},\n",
       "  {'id': '0039694', 'title': 'The Paradine Case'},\n",
       "  {'id': '0040271', 'title': 'A Date with Judy'},\n",
       "  {'id': '0046969', 'title': 'The Fast and the Furious'},\n",
       "  {'id': '0040724', 'title': 'Red River'},\n",
       "  {'id': '0041090', 'title': \"Adam's Rib\"},\n",
       "  {'id': '0041473', 'title': 'Holiday Affair'},\n",
       "  {'id': '0041855', 'title': 'The Secret Garden'},\n",
       "  {'id': '0042276', 'title': 'Born Yesterday'},\n",
       "  {'id': '0042804', 'title': 'The Young and the Damned'},\n",
       "  {'id': '0043153', 'title': 'Young Man with a Horn'},\n",
       "  {'id': '0043511', 'title': \"Europe '51\"},\n",
       "  {'id': '0043915', 'title': 'People Will Talk'},\n",
       "  {'id': '0047472', 'title': 'Seven Brides for Seven Brothers'},\n",
       "  {'id': '0044364', 'title': \"Another Man's Poison\"},\n",
       "  {'id': '0044789', 'title': 'Kansas City Confidential'},\n",
       "  {'id': '0045053', 'title': 'The Prisoner of Zenda'},\n",
       "  {'id': '0045537', 'title': 'The Band Wagon'},\n",
       "  {'id': '0045822', 'title': 'Give a Girl a Break'},\n",
       "  {'id': '0046085', 'title': 'Mogambo'},\n",
       "  {'id': '0052709', 'title': 'Cover Girl Killer'},\n",
       "  {'id': '0047811', 'title': 'All That Heaven Allows'},\n",
       "  {'id': '0048254', 'title': \"Killer's Kiss\"},\n",
       "  {'id': '0048432', 'title': 'Not as a Stranger'},\n",
       "  {'id': '0048673', 'title': 'Summertime'},\n",
       "  {'id': '0048991', 'title': 'The Beast with a Million Eyes'},\n",
       "  {'id': '0049405', 'title': 'The Killer Is Loose'},\n",
       "  {'id': '0049751', 'title': 'The Sharkfighters'},\n",
       "  {'id': '0050083', 'title': '12 Angry Men'},\n",
       "  {'id': '0050280', 'title': 'The Curse of Frankenstein'},\n",
       "  {'id': '0050613', 'title': 'Throne of Blood'},\n",
       "  {'id': '0051016', 'title': 'The Story of Mankind'},\n",
       "  {'id': '0051411', 'title': 'The Big Country'},\n",
       "  {'id': '0051701', 'title': 'Hare-Way to the Stars'},\n",
       "  {'id': '0051980', 'title': 'The Ballad of Narayama'},\n",
       "  {'id': '0052338', 'title': 'A Story of Water'},\n",
       "  {'id': '0085995', 'title': \"National Lampoon's Vacation\"},\n",
       "  {'id': '0053085', 'title': 'The Mummy'},\n",
       "  {'id': '0053221', 'title': 'Rio Bravo'},\n",
       "  {'id': '0053580', 'title': 'The Alamo'},\n",
       "  {'id': '0053925', 'title': 'House of Usher'},\n",
       "  {'id': '0054144', 'title': 'When a Woman Ascends the Stairs'},\n",
       "  {'id': '0054357', 'title': 'Swiss Family Robinson'},\n",
       "  {'id': '0054652', 'title': 'Bachelor in Paradise'},\n",
       "  {'id': '0055019', 'title': 'The Intruder'},\n",
       "  {'id': '0055342', 'title': \"The Pure Hell of St. Trinian's\"},\n",
       "  {'id': '0055824', 'title': 'Cape Fear'},\n",
       "  {'id': '0056048', 'title': 'Gypsy'},\n",
       "  {'id': '0056197', 'title': 'The Longest Day'},\n",
       "  {'id': '0056444', 'title': 'An Autumn Afternoon'},\n",
       "  {'id': '0056868', 'title': 'Billy Liar'},\n",
       "  {'id': '0057115', 'title': 'The Great Escape'},\n",
       "  {'id': '0057327', 'title': 'To Die in Madrid'},\n",
       "  {'id': '0057495', 'title': 'Shock Corridor'},\n",
       "  {'id': '0082912', 'title': 'Pixote'},\n",
       "  {'id': '0057869', 'title': 'Band of Outsiders'},\n",
       "  {'id': '0058150', 'title': 'Goldfinger'},\n",
       "  {'id': '0058379', 'title': 'Mothra vs. Godzilla'}]}"
      ]
     },
     "execution_count": 6,
     "metadata": {},
     "output_type": "execute_result"
    }
   ],
   "source": [
    "res=requests.get('http://127.0.0.1:5000/movies/api/imdb',\n",
    "                 auth=(username,password))\n",
    "res.json()"
   ]
  },
  {
   "cell_type": "markdown",
   "metadata": {},
   "source": [
    "### get_movie(movie_id) (GET)\n",
    "\n",
    "Получить фильм по id"
   ]
  },
  {
   "cell_type": "code",
   "execution_count": 4,
   "metadata": {},
   "outputs": [
    {
     "data": {
      "text/plain": [
       "{'movie': [{'id': '0367027', 'title': 'Shortbus'}]}"
      ]
     },
     "execution_count": 4,
     "metadata": {},
     "output_type": "execute_result"
    }
   ],
   "source": [
    "res=requests.get('http://127.0.0.1:5000/movies/api/imdb/0367027',\n",
    "                 auth=(username,password))\n",
    "res.json()"
   ]
  },
  {
   "cell_type": "markdown",
   "metadata": {},
   "source": [
    "### get_movie_by() (GET)\n",
    "\n",
    "Получить фильм по фильтру"
   ]
  },
  {
   "cell_type": "code",
   "execution_count": 7,
   "metadata": {},
   "outputs": [
    {
     "data": {
      "text/plain": [
       "{'movie': [{'id': '2203721', 'title': 'A Família Braz: Dois Tempos'},\n",
       "  {'id': '1490602', 'title': 'Дети Бога'},\n",
       "  {'id': '1523267', 'title': 'Буря в Арктике'},\n",
       "  {'id': '1529564', 'title': 'Playing House'},\n",
       "  {'id': '1583323', 'title': 'В парилке жизни'},\n",
       "  {'id': '0775543', 'title': 'Night Catches Us'},\n",
       "  {'id': '1055292', 'title': 'Life as We Know It'},\n",
       "  {'id': '0954947', 'title': 'The Killer Inside Me'},\n",
       "  {'id': '0989757', 'title': 'Dear John'},\n",
       "  {'id': '1075747', 'title': 'Jonah Hex'},\n",
       "  {'id': '1139328', 'title': 'The Ghost Writer'},\n",
       "  {'id': '1175709', 'title': 'All Good Things'},\n",
       "  {'id': '1663680', 'title': 'The Encounter'},\n",
       "  {'id': '1179069', 'title': '6 Souls'},\n",
       "  {'id': '1185416', 'title': 'When in Rome'},\n",
       "  {'id': '1196141', 'title': 'Diary of a Wimpy Kid'},\n",
       "  {'id': '1220888', 'title': \"Henry's Crime\"},\n",
       "  {'id': '1227555', 'title': 'Corridor'},\n",
       "  {'id': '1230204', 'title': \"A Turtle's Tale: Sammy's Adventures\"},\n",
       "  {'id': '1232775', 'title': 'Drones'},\n",
       "  {'id': '1245526', 'title': 'RED'},\n",
       "  {'id': '1399683', 'title': \"Winter's Bone\"},\n",
       "  {'id': '1291549', 'title': 'Meet Monica Velour'},\n",
       "  {'id': '1470172', 'title': \"Hanna's Gold\"},\n",
       "  {'id': '1313092', 'title': 'По волчьим законам'},\n",
       "  {'id': '1316037', 'title': 'Birdemic: Shock and Terror'},\n",
       "  {'id': '1320103', 'title': 'Morning'},\n",
       "  {'id': '1322306', 'title': 'Одержимость Эммы Эванс'},\n",
       "  {'id': '1325014', 'title': 'The People vs. George Lucas'},\n",
       "  {'id': '1328908', 'title': 'Bold Native'},\n",
       "  {'id': '1341167', 'title': 'Four Lions'},\n",
       "  {'id': '1477835', 'title': 'Bitter Feast'},\n",
       "  {'id': '1361835', 'title': 'Тишина'},\n",
       "  {'id': '1391092', 'title': 'Marwencol'},\n",
       "  {'id': '1396219', 'title': 'Outcast'},\n",
       "  {'id': '1425257', 'title': 'Настоящая легенда'},\n",
       "  {'id': '1431133', 'title': 'Perfect Combination'},\n",
       "  {'id': '1482989', 'title': 'Young Bruce Lee'},\n",
       "  {'id': '1438254', 'title': 'Charlie St. Cloud'},\n",
       "  {'id': '1440728', 'title': 'The American'},\n",
       "  {'id': '1442578', 'title': 'Reflexões de um Liquidificador'},\n",
       "  {'id': '1448762', 'title': 'Open House'},\n",
       "  {'id': '1454099', 'title': 'Followed Home'},\n",
       "  {'id': '1462758', 'title': 'Погребенный заживо'},\n",
       "  {'id': '1465519', 'title': 'Caged Animal'},\n",
       "  {'id': '1514041', 'title': '4.3.2.1.'},\n",
       "  {'id': '1545759', 'title': 'Point Blank'},\n",
       "  {'id': '1550524', 'title': 'White Irish Drinkers'},\n",
       "  {'id': '1563719', 'title': 'Поймать, чтобы убить'},\n",
       "  {'id': '1568921', 'title': 'Arrietty'},\n",
       "  {'id': '1572008', 'title': 'A Nanny for Christmas'},\n",
       "  {'id': '1592303', 'title': 'Ask Your Heart'},\n",
       "  {'id': '1596352', 'title': 'I Am Slave'},\n",
       "  {'id': '1603489', 'title': 'The Weird World of Blowfly'},\n",
       "  {'id': '1610452', 'title': 'Свадебная церемония'},\n",
       "  {'id': '1626811', 'title': 'Cameraman: The Life and Work of Jack Cardiff'},\n",
       "  {'id': '1636780', 'title': 'Гинтама: Фильм'},\n",
       "  {'id': '1641638', 'title': 'The Legend Is Born: Ip Man'},\n",
       "  {'id': '1650433', 'title': 'Акула'},\n",
       "  {'id': '1674098', 'title': 'Pájaros volando'},\n",
       "  {'id': '1690470', 'title': 'Pokémon: Zoroark: Master of Illusions'},\n",
       "  {'id': '1723120', 'title': 'Yива Рива!'},\n",
       "  {'id': '1728179', 'title': 'Paranormal Activity 2: Tokyo Night'},\n",
       "  {'id': '1754141', 'title': 'Living Will...'},\n",
       "  {'id': '1787758', 'title': 'Mad Bastards'},\n",
       "  {'id': '1585255', 'title': 'The Hairdresser'},\n",
       "  {'id': '0815236', 'title': \"She's Out of My League\"},\n",
       "  {'id': '0840358', 'title': 'Everyday Sunshine: The Story of Fishbone'},\n",
       "  {'id': '0929618', 'title': 'The Penthouse'},\n",
       "  {'id': '0963966', 'title': \"The Sorcerer's Apprentice\"},\n",
       "  {'id': '0975738', 'title': 'Sinatra Club'},\n",
       "  {'id': '1103273', 'title': 'Peep World'},\n",
       "  {'id': '1129412', 'title': 'Circle'},\n",
       "  {'id': '1322312', 'title': 'Going the Distance'},\n",
       "  {'id': '1328913', 'title': \"Preacher's Kid\"},\n",
       "  {'id': '1196204', 'title': 'Cemetery Junction'},\n",
       "  {'id': '1210039', 'title': 'Blood Done Sign My Name'},\n",
       "  {'id': '1273235', 'title': 'Сербский фильм'},\n",
       "  {'id': '1241017', 'title': 'How to Make Love to a Woman'},\n",
       "  {'id': '1270277', 'title': 'Sympathy for Delicious'},\n",
       "  {'id': '1307861', 'title': 'American Grindhouse'},\n",
       "  {'id': '1320239', 'title': 'Burke and Hare'},\n",
       "  {'id': '1341188', 'title': 'How Do You Know'},\n",
       "  {'id': '1369706', 'title': 'The Ward'},\n",
       "  {'id': '1375666', 'title': 'Inception'},\n",
       "  {'id': '1380174', 'title': 'Bad Family'},\n",
       "  {'id': '1386588', 'title': 'The Other Guys'},\n",
       "  {'id': '1396221', 'title': 'Passion Play'},\n",
       "  {'id': '1425624', 'title': 'Parterapi'},\n",
       "  {'id': '1428459', 'title': 'Я люблю тебя, мамочка!'},\n",
       "  {'id': '1438298', 'title': 'Мольба'},\n",
       "  {'id': '1470827', 'title': 'Monsters'},\n",
       "  {'id': '1442583', 'title': 'Tum Milo Toh Sahi'},\n",
       "  {'id': '1459012', 'title': 'Преступление из-за любви'},\n",
       "  {'id': '1465522', 'title': 'Убойные каникулы'},\n",
       "  {'id': '1486190', 'title': 'Tamara Drewe'},\n",
       "  {'id': '1510876', 'title': 'The Rise and Fall of Their American Dream'},\n",
       "  {'id': '1588875', 'title': 'Как я провёл этим летом'},\n",
       "  {'id': '1514048', 'title': 'Loving the Bad Man'},\n",
       "  {'id': '1518809', 'title': 'Life 2.0'}]}"
      ]
     },
     "execution_count": 7,
     "metadata": {},
     "output_type": "execute_result"
    }
   ],
   "source": [
    "res=requests.get('http://127.0.0.1:5000/movies/api/imdb/by?year=2010',\n",
    "                 auth=(username,password))\n",
    "res.json()"
   ]
  },
  {
   "cell_type": "code",
   "execution_count": 10,
   "metadata": {},
   "outputs": [
    {
     "data": {
      "text/plain": [
       "{'movie': [{'id': '2203721', 'title': 'A Família Braz: Dois Tempos'},\n",
       "  {'id': '1583323', 'title': 'В парилке жизни'},\n",
       "  {'id': '1325014', 'title': 'The People vs. George Lucas'},\n",
       "  {'id': '1391092', 'title': 'Marwencol'},\n",
       "  {'id': '1603489', 'title': 'The Weird World of Blowfly'},\n",
       "  {'id': '1626811', 'title': 'Cameraman: The Life and Work of Jack Cardiff'},\n",
       "  {'id': '0840358', 'title': 'Everyday Sunshine: The Story of Fishbone'},\n",
       "  {'id': '1307861', 'title': 'American Grindhouse'},\n",
       "  {'id': '1518809', 'title': 'Life 2.0'},\n",
       "  {'id': '1541613', 'title': 'Последняя песня Анатолии'},\n",
       "  {'id': '1550557',\n",
       "   'title': \"OC87: The Obsessive Compulsive, Major Depression, Bipolar, Asperger's Movie\"},\n",
       "  {'id': '1556190', 'title': 'Ностальгия по свету'},\n",
       "  {'id': '1623008', 'title': 'The Arbor'},\n",
       "  {'id': '1515059', 'title': 'Family Affair'},\n",
       "  {'id': '1580346', 'title': 'ReGeneration'},\n",
       "  {'id': '1632703', 'title': 'Burzynski'},\n",
       "  {'id': '1694015', 'title': 'Cool It'},\n",
       "  {'id': '1745844', 'title': 'The Fence'},\n",
       "  {'id': '1510907', 'title': 'Behind the Burly Q'},\n",
       "  {'id': '1628726', 'title': 'Death Metal: Are We Watching You Die?'},\n",
       "  {'id': '1741225', 'title': 'I Am'},\n",
       "  {'id': '1764726', 'title': 'Upside Down: The Creation Records Story'},\n",
       "  {'id': '1802198', 'title': 'Man with No Name'},\n",
       "  {'id': '1825163', 'title': 'Заговор вокруг лампочки'},\n",
       "  {'id': '1587707', 'title': 'Exit Through the Gift Shop'},\n",
       "  {'id': '1326283', 'title': 'Путешествие Джейн'},\n",
       "  {'id': '1466072', 'title': 'William S. Burroughs: A Man Within'},\n",
       "  {'id': '1515195', 'title': 'Being in the World'},\n",
       "  {'id': '1584016', 'title': 'Catfish'},\n",
       "  {'id': '1683876', 'title': 'Счастливые люди: год в тайге'},\n",
       "  {'id': '1657885', 'title': 'First Love'},\n",
       "  {'id': '1362518',\n",
       "   'title': \"Ain't in It for My Health: A Film About Levon Helm\"},\n",
       "  {'id': '1490637', 'title': 'Dive!'},\n",
       "  {'id': '1558250', 'title': 'GasLand'},\n",
       "  {'id': '1568150', 'title': 'Joan Rivers: A Piece of Work'},\n",
       "  {'id': '1584813', 'title': 'Побег из страны Санта-Клауса'},\n",
       "  {'id': '1620785', 'title': 'How Much Does Your Building Weigh, Mr Foster?'},\n",
       "  {'id': '1640680', 'title': 'Броненосец'},\n",
       "  {'id': '1664894', 'title': 'Cave of Forgotten Dreams'},\n",
       "  {'id': '1846771', 'title': 'The Good Life'},\n",
       "  {'id': '1866255', 'title': 'The Battle for Marjah'},\n",
       "  {'id': '1540074', 'title': 'There Once was an Island: Te Henua e Nnoho'},\n",
       "  {'id': '1568335', 'title': 'Jean-Michel Basquiat: The Radiant Child'},\n",
       "  {'id': '1611990',\n",
       "   'title': \"Man on a Mission: Richard Garriott's Road to the Stars\"},\n",
       "  {'id': '1623757', 'title': 'Девки с мачете на свободе!'},\n",
       "  {'id': '1662514', 'title': 'Jedi Junkies'},\n",
       "  {'id': '1828232', 'title': 'Жизненные циклы'},\n",
       "  {'id': '1091863', 'title': 'With Great Power: The Stan Lee Story'},\n",
       "  {'id': '1116184', 'title': 'Jackass 3D'},\n",
       "  {'id': '1645089', 'title': 'Inside Job'},\n",
       "  {'id': '2075226',\n",
       "   'title': 'John Bishop Live: The Elvis Has Left the Building Tour'},\n",
       "  {'id': '1111313', 'title': 'The Elephant in the Living Room'},\n",
       "  {'id': '1598782', 'title': 'David Wants to Fly'},\n",
       "  {'id': '1704619', 'title': 'Tabloid'},\n",
       "  {'id': '1433813', 'title': 'Телескоп Хаббл в 3D'},\n",
       "  {'id': '1625092', 'title': 'Ed Hardy: Tattoo the World'},\n",
       "  {'id': '1194612', 'title': 'Навстречу вечности'},\n",
       "  {'id': '1540733', 'title': 'A Good Day to Die'},\n",
       "  {'id': '1786490', 'title': 'Furious Love'},\n",
       "  {'id': '1236472', 'title': 'Lemmy'},\n",
       "  {'id': '1268204', 'title': 'Свалка'},\n",
       "  {'id': '1545103', 'title': 'Раш: За кулисами'},\n",
       "  {'id': '2057966', 'title': 'Impunity'},\n",
       "  {'id': '0963292',\n",
       "   'title': 'Feast of the Assumption: BTK and the Otero Family Murders'},\n",
       "  {'id': '1020904', 'title': 'Takedowns and Falls'},\n",
       "  {'id': '1407927', 'title': '180° South'},\n",
       "  {'id': '1424432', 'title': 'Senna'},\n",
       "  {'id': '1426386', 'title': 'Lost Angels: Skid Row Is My Home'},\n",
       "  {'id': '1566364', 'title': 'Most Valuable Players'},\n",
       "  {'id': '1621444', 'title': 'Bill Cunningham: New York'},\n",
       "  {'id': '1273201', 'title': 'Climate Refugees'},\n",
       "  {'id': '1484522', 'title': '8: The Mormon Proposition'},\n",
       "  {'id': '1696535', 'title': 'El Bulli: Развитие кулинарии'},\n",
       "  {'id': '1727790', 'title': 'Fire in Babylon'},\n",
       "  {'id': '1773722', 'title': 'The Dark Side of Chocolate'},\n",
       "  {'id': '1227378', 'title': 'Толстый, больной и почти мёртвый'},\n",
       "  {'id': '1232206', 'title': 'Teenage Paparazzo'},\n",
       "  {'id': '1559549', 'title': 'Restrepo'},\n",
       "  {'id': '1566648', 'title': \"Waiting for 'Superman'\"},\n",
       "  {'id': '1626175', 'title': 'One Night in Turin'},\n",
       "  {'id': '1650404', 'title': \"Draquila - L'Italia che trema\"},\n",
       "  {'id': '1692848', 'title': 'Guest'},\n",
       "  {'id': '1935828', 'title': 'Jim Jefferies Alcoholocaust'},\n",
       "  {'id': '2700330', 'title': 'Два Эскобара'},\n",
       "  {'id': '1152822', 'title': 'Freakonomics'},\n",
       "  {'id': '1280015', 'title': 'Smash His Camera'},\n",
       "  {'id': '1634833', 'title': 'Overdose'},\n",
       "  {'id': '1667079', 'title': 'Food Stamped'},\n",
       "  {'id': '1757816', 'title': 'Jim Breuer: More Than Me'}]}"
      ]
     },
     "execution_count": 10,
     "metadata": {},
     "output_type": "execute_result"
    }
   ],
   "source": [
    "res=requests.get('http://127.0.0.1:5000/movies/api/imdb/by?genre=Documentary&year=2010',\n",
    "                 auth=(username,password))\n",
    "res.json()"
   ]
  },
  {
   "cell_type": "markdown",
   "metadata": {},
   "source": [
    "### add_movie() (POST)\n",
    "\n",
    "Добавить фильм в базу данных"
   ]
  },
  {
   "cell_type": "code",
   "execution_count": 54,
   "metadata": {},
   "outputs": [
    {
     "data": {
      "text/plain": [
       "{'movie': {'directors': None,\n",
       "  'genres': None,\n",
       "  'id': '0000000',\n",
       "  'raiting': None,\n",
       "  'release_dates': None,\n",
       "  'storyline': None,\n",
       "  'synopsis': None,\n",
       "  'title': 'Blackbook',\n",
       "  'top_3_cast': None,\n",
       "  'year': None}}"
      ]
     },
     "execution_count": 54,
     "metadata": {},
     "output_type": "execute_result"
    }
   ],
   "source": [
    "res=requests.post('http://127.0.0.1:5000/movies/api/imdb',\n",
    "                  auth=(username,password),\n",
    "                  data=json.dumps({\"id\":\"0000000\",\"title\":\"Blackbook\"}),\n",
    "                 headers={\"Content-Type\": \"application/json\"})\n",
    "res.json()"
   ]
  },
  {
   "cell_type": "markdown",
   "metadata": {},
   "source": [
    "### update_movie(movie_id) (PUT)\n",
    "\n",
    "Обновить информацию о фильме"
   ]
  },
  {
   "cell_type": "code",
   "execution_count": 55,
   "metadata": {},
   "outputs": [
    {
     "data": {
      "text/plain": [
       "{'movie': {'directors': None,\n",
       "  'genres': None,\n",
       "  'id': '0000000',\n",
       "  'raiting': None,\n",
       "  'release_dates': None,\n",
       "  'storyline': None,\n",
       "  'synopsis': None,\n",
       "  'title': 'Black book',\n",
       "  'top_3_cast': None,\n",
       "  'year': None}}"
      ]
     },
     "execution_count": 55,
     "metadata": {},
     "output_type": "execute_result"
    }
   ],
   "source": [
    "res=requests.put('http://127.0.0.1:5000/movies/api/imdb/0000000',\n",
    "                  auth=(username,password),\n",
    "                  data=json.dumps({\"title\":\"Black book\"}),\n",
    "                 headers={\"Content-Type\": \"application/json\"})\n",
    "res.json()"
   ]
  },
  {
   "cell_type": "markdown",
   "metadata": {},
   "source": [
    "### delete_movie(movie_id) (DELETE)\n",
    "\n",
    "Удалить фильм по id"
   ]
  },
  {
   "cell_type": "code",
   "execution_count": 52,
   "metadata": {},
   "outputs": [
    {
     "data": {
      "text/plain": [
       "{'result': True}"
      ]
     },
     "execution_count": 52,
     "metadata": {},
     "output_type": "execute_result"
    }
   ],
   "source": [
    "res=requests.delete('http://127.0.0.1:5000/movies/api/imdb/0000000',\n",
    "                    auth=(username,password))\n",
    "res.json()"
   ]
  }
 ],
 "metadata": {
  "kernelspec": {
   "display_name": "Python 3",
   "language": "python",
   "name": "python3"
  },
  "language_info": {
   "codemirror_mode": {
    "name": "ipython",
    "version": 3
   },
   "file_extension": ".py",
   "mimetype": "text/x-python",
   "name": "python",
   "nbconvert_exporter": "python",
   "pygments_lexer": "ipython3",
   "version": "3.6.2"
  }
 },
 "nbformat": 4,
 "nbformat_minor": 2
}
