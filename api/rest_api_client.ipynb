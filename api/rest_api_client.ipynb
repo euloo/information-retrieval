{
 "cells": [
  {
   "cell_type": "markdown",
   "metadata": {
    "collapsed": true
   },
   "source": [
    "# REST API\n",
    "1. Заполните строку подключения в [rest_api.py](/rest_api.py)\n",
    "~~~\n",
    "con_str=\"\"\"user='     ' password='     ' host='     ' port='     ' dbname='     '\"\"\"\n",
    "~~~\n",
    "2. [Включите](https://www.youtube.com/watch?v=dQw4w9WgXcQ)\n",
    "\n",
    "3. Запустите [rest_api.py](/rest_api.py)\n",
    "![Alt text](images/rest_api.PNG?raw=true \"Title\")"
   ]
  },
  {
   "cell_type": "code",
   "execution_count": 1,
   "metadata": {},
   "outputs": [],
   "source": [
    "import requests\n",
    "import json"
   ]
  },
  {
   "cell_type": "markdown",
   "metadata": {},
   "source": [
    "Заполните:"
   ]
  },
  {
   "cell_type": "code",
   "execution_count": 17,
   "metadata": {},
   "outputs": [],
   "source": [
    "host = \"localhost\" # 127.0.0.1\n",
    "port = \"5000\"\n",
    "username = \"   \"\n",
    "password = \"   \""
   ]
  },
  {
   "cell_type": "markdown",
   "metadata": {},
   "source": [
    "## 1. Список фильмов\n",
    "LIMIT 3\n",
    "\n",
    "```\n",
    "/movies\n",
    "```\n",
    "### curl"
   ]
  },
  {
   "cell_type": "code",
   "execution_count": 3,
   "metadata": {},
   "outputs": [
    {
     "name": "stdout",
     "output_type": "stream",
     "text": [
      "HTTP/1.0 200 OK\n",
      "Content-Type: application/json\n",
      "Content-Length: 295\n",
      "Server: Werkzeug/0.15.2 Python/3.6.7\n",
      "Date: Fri, 26 Apr 2019 08:42:46 GMT\n",
      "\n",
      "{\n",
      "  \"movies\": [\n",
      "    {\n",
      "      \"id\": \"0046487\", \n",
      "      \"title\": \"Monsieur Hulot's Holiday\"\n",
      "    }, \n",
      "    {\n",
      "      \"id\": \"1602472\", \n",
      "      \"title\": \"2 \\u0434\\u043d\\u044f \\u0432 \\u041d\\u044c\\u044e-\\u0419\\u043e\\u0440\\u043a\\u0435\"\n",
      "    }, \n",
      "    {\n",
      "      \"id\": \"0258153\", \n",
      "      \"title\": \"S1m0ne\"\n",
      "    }\n",
      "  ]\n",
      "}\n"
     ]
    },
    {
     "name": "stderr",
     "output_type": "stream",
     "text": [
      "  % Total    % Received % Xferd  Average Speed   Time    Time     Time  Current\n",
      "                                 Dload  Upload   Total   Spent    Left  Speed\n",
      "\n",
      "  0     0    0     0    0     0      0      0 --:--:-- --:--:-- --:--:--     0\n",
      "  0     0    0     0    0     0      0      0 --:--:-- --:--:-- --:--:--     0\n",
      "  0     0    0     0    0     0      0      0 --:--:--  0:00:01 --:--:--     0\n",
      "  0     0    0     0    0     0      0      0 --:--:--  0:00:02 --:--:--     0\n",
      "100   295  100   295    0     0    117      0  0:00:02  0:00:02 --:--:--   117\n"
     ]
    }
   ],
   "source": [
    "!curl -i http://{host}:{port}/movies -u {username}:{password}"
   ]
  },
  {
   "cell_type": "markdown",
   "metadata": {},
   "source": [
    "### python"
   ]
  },
  {
   "cell_type": "code",
   "execution_count": 4,
   "metadata": {},
   "outputs": [
    {
     "data": {
      "text/plain": [
       "{'movies': [{'id': '0049844', 'title': 'These Wilder Years'},\n",
       "  {'id': '0113649', 'title': 'Поборницы свободы'},\n",
       "  {'id': '0031394', 'title': 'The Green Hornet'}]}"
      ]
     },
     "execution_count": 4,
     "metadata": {},
     "output_type": "execute_result"
    }
   ],
   "source": [
    "res = requests.get(\"http://\" + host + \":\" + port + \"/movies\",\n",
    "                 auth=(username,password))\n",
    "res.json()"
   ]
  },
  {
   "cell_type": "markdown",
   "metadata": {},
   "source": [
    "## 2. Список фильмов с фильтром по жанру\n",
    "```\n",
    "/movies/by?genre={genre}\n",
    "```\n",
    "### curl"
   ]
  },
  {
   "cell_type": "code",
   "execution_count": 5,
   "metadata": {},
   "outputs": [],
   "source": [
    "genre = \"Crime\""
   ]
  },
  {
   "cell_type": "code",
   "execution_count": 6,
   "metadata": {},
   "outputs": [
    {
     "name": "stdout",
     "output_type": "stream",
     "text": [
      "HTTP/1.0 200 OK\n",
      "Content-Type: application/json\n",
      "Content-Length: 243\n",
      "Server: Werkzeug/0.15.2 Python/3.6.7\n",
      "Date: Fri, 26 Apr 2019 08:42:57 GMT\n",
      "\n",
      "{\n",
      "  \"movie\": [\n",
      "    {\n",
      "      \"id\": \"0028241\", \n",
      "      \"title\": \"Shadow of Chinatown\"\n",
      "    }, \n",
      "    {\n",
      "      \"id\": \"0031867\", \n",
      "      \"title\": \"The Roaring Twenties\"\n",
      "    }, \n",
      "    {\n",
      "      \"id\": \"0035432\", \n",
      "      \"title\": \"This Gun for Hire\"\n",
      "    }\n",
      "  ]\n",
      "}\n"
     ]
    },
    {
     "name": "stderr",
     "output_type": "stream",
     "text": [
      "  % Total    % Received % Xferd  Average Speed   Time    Time     Time  Current\n",
      "                                 Dload  Upload   Total   Spent    Left  Speed\n",
      "\n",
      "  0     0    0     0    0     0      0      0 --:--:-- --:--:-- --:--:--     0\n",
      "  0     0    0     0    0     0      0      0 --:--:-- --:--:-- --:--:--     0\n",
      "  0     0    0     0    0     0      0      0 --:--:--  0:00:01 --:--:--     0\n",
      "  0     0    0     0    0     0      0      0 --:--:--  0:00:02 --:--:--     0\n",
      "100   243  100   243    0     0     97      0  0:00:02  0:00:02 --:--:--    96\n"
     ]
    }
   ],
   "source": [
    "!curl -i http://{host}:{port}/movies/by?genre={genre} -u {username}:{password}"
   ]
  },
  {
   "cell_type": "markdown",
   "metadata": {},
   "source": [
    "### python"
   ]
  },
  {
   "cell_type": "code",
   "execution_count": 7,
   "metadata": {},
   "outputs": [
    {
     "data": {
      "text/plain": [
       "{'movie': [{'id': '0028241', 'title': 'Shadow of Chinatown'},\n",
       "  {'id': '0031867', 'title': 'The Roaring Twenties'},\n",
       "  {'id': '0035432', 'title': 'This Gun for Hire'}]}"
      ]
     },
     "execution_count": 7,
     "metadata": {},
     "output_type": "execute_result"
    }
   ],
   "source": [
    "res = requests.get(\"http://\" + host + \":\" + port + \"/movies/by?genre=\" + genre,\n",
    "                 auth=(username,password))\n",
    "res.json()"
   ]
  },
  {
   "cell_type": "markdown",
   "metadata": {},
   "source": [
    "## 3. Список фильмов с фильтром по году выпуска\n",
    "```\n",
    "/movies/by?year={year}\n",
    "```\n",
    "### curl"
   ]
  },
  {
   "cell_type": "code",
   "execution_count": 8,
   "metadata": {},
   "outputs": [],
   "source": [
    "year = \"1992\""
   ]
  },
  {
   "cell_type": "code",
   "execution_count": 9,
   "metadata": {},
   "outputs": [
    {
     "name": "stdout",
     "output_type": "stream",
     "text": [
      "HTTP/1.0 200 OK\n",
      "Content-Type: application/json\n",
      "Content-Length: 239\n",
      "Server: Werkzeug/0.15.2 Python/3.6.7\n",
      "Date: Fri, 26 Apr 2019 08:43:06 GMT\n",
      "\n",
      "{\n",
      "  \"movie\": [\n",
      "    {\n",
      "      \"id\": \"0099055\", \n",
      "      \"title\": \"The Argon Quest\"\n",
      "    }, \n",
      "    {\n",
      "      \"id\": \"0105151\", \n",
      "      \"title\": \"The Player\"\n",
      "    }, \n",
      "    {\n",
      "      \"id\": \"0104850\", \n",
      "      \"title\": \"Memoirs of an Invisible Man\"\n",
      "    }\n",
      "  ]\n",
      "}\n"
     ]
    },
    {
     "name": "stderr",
     "output_type": "stream",
     "text": [
      "  % Total    % Received % Xferd  Average Speed   Time    Time     Time  Current\n",
      "                                 Dload  Upload   Total   Spent    Left  Speed\n",
      "\n",
      "  0     0    0     0    0     0      0      0 --:--:-- --:--:-- --:--:--     0\n",
      "  0     0    0     0    0     0      0      0 --:--:--  0:00:01 --:--:--     0\n",
      "  0     0    0     0    0     0      0      0 --:--:--  0:00:02 --:--:--     0\n",
      "100   239  100   239    0     0     93      0  0:00:02  0:00:02 --:--:--    93\n"
     ]
    }
   ],
   "source": [
    "!curl -i http://{host}:{port}/movies/by?year={year} -u {username}:{password}"
   ]
  },
  {
   "cell_type": "markdown",
   "metadata": {},
   "source": [
    "### python"
   ]
  },
  {
   "cell_type": "code",
   "execution_count": 10,
   "metadata": {},
   "outputs": [
    {
     "data": {
      "text/plain": [
       "{'movie': [{'id': '0099055', 'title': 'The Argon Quest'},\n",
       "  {'id': '0105151', 'title': 'The Player'},\n",
       "  {'id': '0104850', 'title': 'Memoirs of an Invisible Man'}]}"
      ]
     },
     "execution_count": 10,
     "metadata": {},
     "output_type": "execute_result"
    }
   ],
   "source": [
    "res = requests.get(\"http://\" + host + \":\" + port + \"/movies/by?year=\" + year,\n",
    "                 auth=(username,password))\n",
    "res.json()"
   ]
  },
  {
   "cell_type": "markdown",
   "metadata": {},
   "source": [
    "## 4. Список фильмов с фильтром по режиссёру выпуска\n",
    "```\n",
    "/movies/by?director={director}\n",
    "```\n",
    "### curl"
   ]
  },
  {
   "cell_type": "code",
   "execution_count": 11,
   "metadata": {},
   "outputs": [],
   "source": [
    "director = \"Quentin+Tarantino\""
   ]
  },
  {
   "cell_type": "code",
   "execution_count": 12,
   "metadata": {},
   "outputs": [
    {
     "name": "stdout",
     "output_type": "stream",
     "text": [
      "HTTP/1.0 200 OK\n",
      "Content-Type: application/json\n",
      "Content-Length: 235\n",
      "Server: Werkzeug/0.15.2 Python/3.6.7\n",
      "Date: Fri, 26 Apr 2019 08:43:12 GMT\n",
      "\n",
      "{\n",
      "  \"movie\": [\n",
      "    {\n",
      "      \"id\": \"0361748\", \n",
      "      \"title\": \"Inglourious Basterds\"\n",
      "    }, \n",
      "    {\n",
      "      \"id\": \"0378194\", \n",
      "      \"title\": \"Kill Bill: Vol. 2\"\n",
      "    }, \n",
      "    {\n",
      "      \"id\": \"1028528\", \n",
      "      \"title\": \"Death Proof\"\n",
      "    }\n",
      "  ]\n",
      "}\n"
     ]
    },
    {
     "name": "stderr",
     "output_type": "stream",
     "text": [
      "  % Total    % Received % Xferd  Average Speed   Time    Time     Time  Current\n",
      "                                 Dload  Upload   Total   Spent    Left  Speed\n",
      "\n",
      "  0     0    0     0    0     0      0      0 --:--:-- --:--:-- --:--:--     0\n",
      "  0     0    0     0    0     0      0      0 --:--:--  0:00:01 --:--:--     0\n",
      "  0     0    0     0    0     0      0      0 --:--:--  0:00:02 --:--:--     0\n",
      "100   235  100   235    0     0     92      0  0:00:02  0:00:02 --:--:--    92\n"
     ]
    }
   ],
   "source": [
    "!curl -i http://{host}:{port}/movies/by?director={director} -u {username}:{password}"
   ]
  },
  {
   "cell_type": "markdown",
   "metadata": {},
   "source": [
    "### python"
   ]
  },
  {
   "cell_type": "code",
   "execution_count": 13,
   "metadata": {},
   "outputs": [
    {
     "data": {
      "text/plain": [
       "{'movie': [{'id': '0361748', 'title': 'Inglourious Basterds'},\n",
       "  {'id': '0378194', 'title': 'Kill Bill: Vol. 2'},\n",
       "  {'id': '1028528', 'title': 'Death Proof'}]}"
      ]
     },
     "execution_count": 13,
     "metadata": {},
     "output_type": "execute_result"
    }
   ],
   "source": [
    "res = requests.get(\"http://\" + host + \":\" + port + \"/movies/by?director=\" + director,\n",
    "                 auth=(username,password))\n",
    "res.json()"
   ]
  },
  {
   "cell_type": "markdown",
   "metadata": {},
   "source": [
    "## 5. Информация о фильме\n",
    "```\n",
    "/movies/{id}\n",
    "```\n",
    "### curl"
   ]
  },
  {
   "cell_type": "code",
   "execution_count": 14,
   "metadata": {},
   "outputs": [],
   "source": [
    "id = \"0105236\""
   ]
  },
  {
   "cell_type": "code",
   "execution_count": 15,
   "metadata": {},
   "outputs": [
    {
     "name": "stdout",
     "output_type": "stream",
     "text": [
      "HTTP/1.0 200 OK\n",
      "Content-Type: application/json\n",
      "Content-Length: 1152\n",
      "Server: Werkzeug/0.15.2 Python/3.6.7\n",
      "Date: Fri, 26 Apr 2019 08:43:18 GMT\n",
      "\n",
      "{\n",
      "  \"movie\": [\n",
      "    {\n",
      "      \"directors\": [\n",
      "        \"Quentin Tarantino\"\n",
      "      ], \n",
      "      \"genres\": [\n",
      "        \"Crime\", \n",
      "        \"Drama\", \n",
      "        \"Thriller\"\n",
      "      ], \n",
      "      \"id\": \"0105236\", \n",
      "      \"ratingz\": 8, \n",
      "      \"release_dates\": [], \n",
      "      \"storyline\": \"    Six criminals, who are strangers to each other, are hired by a crime boss, Joe Cabot, to carry out a diamond robbery. Right at the outset, they are given false names with the intention that they won't get too close and will concentrate on the job instead. They are completely sure that the robbery is going to be a success. But, when the police show up right at the time and the site of the robbery, panic spreads amongst the group members, and two of them are killed in the subsequent shootout, along with a few policemen and civilians. When the remaining people assemble at the premeditated rendezvous point (a warehouse), they begin to suspect that one of them is an undercover cop.\", \n",
      "      \"synopsis\": null, \n",
      "      \"title\": \"Reservoir Dogs\", \n",
      "      \"top_3_cast\": [\n",
      "        \" Harvey Keitel\\n\", \n",
      "        \" Tim Roth\\n\", \n",
      "        \" Michael Madsen\\n\"\n",
      "      ], \n",
      "      \"year\": 1992\n",
      "    }\n",
      "  ]\n",
      "}\n"
     ]
    },
    {
     "name": "stderr",
     "output_type": "stream",
     "text": [
      "  % Total    % Received % Xferd  Average Speed   Time    Time     Time  Current\n",
      "                                 Dload  Upload   Total   Spent    Left  Speed\n",
      "\n",
      "  0     0    0     0    0     0      0      0 --:--:-- --:--:-- --:--:--     0\n",
      "  0     0    0     0    0     0      0      0 --:--:--  0:00:01 --:--:--     0\n",
      "  0     0    0     0    0     0      0      0 --:--:--  0:00:02 --:--:--     0\n",
      "100  1152  100  1152    0     0    453      0  0:00:02  0:00:02 --:--:--   453\n"
     ]
    }
   ],
   "source": [
    "!curl -i http://{host}:{port}/movies/{id} -u {username}:{password}"
   ]
  },
  {
   "cell_type": "markdown",
   "metadata": {},
   "source": [
    "### python"
   ]
  },
  {
   "cell_type": "code",
   "execution_count": 16,
   "metadata": {},
   "outputs": [
    {
     "data": {
      "text/plain": [
       "{'movie': [{'directors': ['Quentin Tarantino'],\n",
       "   'genres': ['Crime', 'Drama', 'Thriller'],\n",
       "   'id': '0105236',\n",
       "   'ratingz': 8,\n",
       "   'release_dates': [],\n",
       "   'storyline': \"    Six criminals, who are strangers to each other, are hired by a crime boss, Joe Cabot, to carry out a diamond robbery. Right at the outset, they are given false names with the intention that they won't get too close and will concentrate on the job instead. They are completely sure that the robbery is going to be a success. But, when the police show up right at the time and the site of the robbery, panic spreads amongst the group members, and two of them are killed in the subsequent shootout, along with a few policemen and civilians. When the remaining people assemble at the premeditated rendezvous point (a warehouse), they begin to suspect that one of them is an undercover cop.\",\n",
       "   'synopsis': None,\n",
       "   'title': 'Reservoir Dogs',\n",
       "   'top_3_cast': [' Harvey Keitel\\n', ' Tim Roth\\n', ' Michael Madsen\\n'],\n",
       "   'year': 1992}]}"
      ]
     },
     "execution_count": 16,
     "metadata": {},
     "output_type": "execute_result"
    }
   ],
   "source": [
    "res=requests.get(\"http://\" + host + \":\" + port + \"/movies/\" + id,\n",
    "                 auth=(username,password))\n",
    "res.json()"
   ]
  }
 ],
 "metadata": {
  "kernelspec": {
   "display_name": "Python 3",
   "language": "python",
   "name": "python3"
  },
  "language_info": {
   "codemirror_mode": {
    "name": "ipython",
    "version": 3
   },
   "file_extension": ".py",
   "mimetype": "text/x-python",
   "name": "python",
   "nbconvert_exporter": "python",
   "pygments_lexer": "ipython3",
   "version": "3.6.7"
  }
 },
 "nbformat": 4,
 "nbformat_minor": 2
}
