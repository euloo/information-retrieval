{
 "cells": [
  {
   "cell_type": "code",
   "execution_count": 1,
   "metadata": {
    "collapsed": true
   },
   "outputs": [],
   "source": [
    "import requests\n",
    "import json"
   ]
  },
  {
   "cell_type": "markdown",
   "metadata": {},
   "source": [
    "### get_movies() (GET)\n",
    "\n",
    "Получить выборку из 100 случайных фильмов"
   ]
  },
  {
   "cell_type": "code",
   "execution_count": 3,
   "metadata": {},
   "outputs": [
    {
     "data": {
      "text/plain": [
       "{'movies': [{'directors': ['Alex Segal'],\n",
       "   'genres': ['Crime', 'Drama', 'Film-Noir'],\n",
       "   'id': '0049656',\n",
       "   'raiting': 7,\n",
       "   'release_dates': ['February1956(USA)',\n",
       "    '19December1957(WestGermany)',\n",
       "    '26September1958(Finland)'],\n",
       "   'storyline': \"    When his son Andy is kidnapped and held for ransom, David Stannard liquidates his assets to meet the half-million dollar demand. A casual remark by newspaper reporter Charlie Telfer makes him change his mind. Despite the pleas from his wife Edith and brother Al, and the resultant condemnation of the press and public, Stannard goes on a nation-wide television program, displays the money and warns the kidnapper that not one cent will be paid for ransom; instead the money will be used to track down the kidnapper if Andy isn't returned unharmed. The police then find the boy's blood-stained shirt.\",\n",
       "   'synopsis': None,\n",
       "   'title': 'Ransom!',\n",
       "   'top_3_cast': [' Glenn Ford\\n', ' Donna Reed\\n', ' Leslie Nielsen\\n'],\n",
       "   'year': 1956},\n",
       "  {'directors': ['Takashi Miike'],\n",
       "   'genres': ['Horror', 'Thriller'],\n",
       "   'id': '2294473',\n",
       "   'raiting': 7,\n",
       "   'release_dates': [],\n",
       "   'storyline': '    A popular high school teacher concocts an extreme plan to deal with the rise of bullying and bad behavior among the student body.',\n",
       "   'synopsis': None,\n",
       "   'title': 'Lesson of the Evil',\n",
       "   'top_3_cast': [' Mayu Matsuoka\\n', ' Fumi Nikaidô\\n', ' Takayuki Yamada\\n'],\n",
       "   'year': 2012},\n",
       "  {'directors': ['Kôji Masunari', 'Masaaki Yuasa'],\n",
       "   'genres': ['Animation', 'Adventure', 'Family'],\n",
       "   'id': '1679681',\n",
       "   'raiting': 7,\n",
       "   'release_dates': [],\n",
       "   'storyline': '    A tiny mountain village in a remote woodland region. Five primary school kids have come together in this idyllic spot in order to spend their summer holidays at a camp. At first the children enjoy carefree days amidst unspoiled nature far away from adult supervision. But their life changes dramatically when they come across what they believe to be a small dog, badly in need of help. The creature - known as Pochi - turns out not to be a dog at all but an alien on an important mission. It seems there is a mysterious substance on earth that is coveted throughout the universe. Pochi had almost found it but was so badly injured during a fight that he had to give up his search. Thanks to the children\\'s help, the alien survives - and decides to reward them generously. \"Where would you most like to travel?\" is the question Pochi puts to his rescuers. Their answer is prompt, if vague: \"As far as possible!\" Pochi suggests they try the moon first of all, and so, the alien whisks away the kids to...',\n",
       "   'synopsis': None,\n",
       "   'title': 'Welcome to the Space Show',\n",
       "   'top_3_cast': [' Tomoyo Kurosawa\\n',\n",
       "    ' Honoka Ikezuki\\n',\n",
       "    ' Takuto Yoshinaga\\n'],\n",
       "   'year': 2010},\n",
       "  {'directors': ['Lynn-Maree Milburn'],\n",
       "   'genres': ['Documentary', 'Biography', 'Drama'],\n",
       "   'id': '3005560',\n",
       "   'raiting': 7,\n",
       "   'release_dates': [],\n",
       "   'storyline': \"    After nearly four decades faithfully serving his parish in South Melbourne, Father Bob Maguire has acquired a reputation as a controversial and irreverent figure. His battles with church hierarchy have become legend. His forthright approach, insightful wit and dedication to improving the lives of others has made him an inspiration not just in his parish but throughout Australia. In Bob We Trust begins with Father Bob facing his greatest challenge. Despite the 'promise of a parish for life', the Archbishop of Melbourne invites him to retire. What follows is a David and Goliath story of biblical proportions as the dissident priest, loved by the faithful and the secular alike, resists the authority of the church to remove him, only to encounter treachery and betrayal. In Bob We Trust follows irreverent philosopher and working class hero Father Bob over three years, on a journey which is by turns inspirational and shocking, eye-opening and joyous, revealing behind-the-scenes drama that ...\",\n",
       "   'synopsis': None,\n",
       "   'title': 'In Bob We Trust',\n",
       "   'top_3_cast': [' Denis Hart\\n', ' Bob Maguire\\n', ' George Pell\\n'],\n",
       "   'year': 2013},\n",
       "  {'directors': ['Hiroyuki Okiura'],\n",
       "   'genres': ['Animation', 'Drama', 'Fantasy'],\n",
       "   'id': '0193253',\n",
       "   'raiting': 8,\n",
       "   'release_dates': [],\n",
       "   'storyline': \"    Ten years after the end of World War II; anti-terror policeman Fuse gets suspended from service after the suicide by self-detonation of a young terrorist girl during an operation, as he failed to shoot her in time. When he tries to gather some information about her, he meets her sister and befriends with her. Both get dragged into the rivalries between the administration of the police and the counter terrorism commando unit 'Jin Roh' (human wolves).\",\n",
       "   'synopsis': None,\n",
       "   'title': 'Jin-Roh: The Wolf Brigade',\n",
       "   'top_3_cast': [' Michael Dobson\\n', ' Yoshikazu Fujiki\\n', ' Sumi Mutoh\\n'],\n",
       "   'year': 1999},\n",
       "  {'directors': ['Jean-Luc Godard'],\n",
       "   'genres': ['Comedy', 'Crime', 'Drama'],\n",
       "   'id': '0057869',\n",
       "   'raiting': 8,\n",
       "   'release_dates': [],\n",
       "   'storyline': \"    A triangle: Franz, Arthur, and Odile. Franz, a young man with Alain Delon good looks, has met Odile in an English class. She lives in Joinville with wealthy benefactors and has mentioned to Franz that Mr. Stolz keeps a pile of 10,000 franc notes unlocked in his room. Franz tells his friend Arthur, a swarthy guy whose shady uncle is pressing him for money. Arthur and Franz, who mimic American movie tough guys, case Odile's house, pressure her to assist them with a burglary, and make passes at her as well. She's alternately compliant and distressed. Will they pull off the heist?\",\n",
       "   'synopsis': None,\n",
       "   'title': 'Band of Outsiders',\n",
       "   'top_3_cast': [' Anna Karina\\n', ' Danièle Girard\\n', ' Louisa Colpeyn\\n'],\n",
       "   'year': 1964},\n",
       "  {'directors': ['Jaime Humberto Hermosillo'],\n",
       "   'genres': ['Comedy', 'Romance'],\n",
       "   'id': '0077160',\n",
       "   'raiting': 7,\n",
       "   'release_dates': [],\n",
       "   'storyline': '    Julia and Julie share and share alike: they share a curiosity shoppe in a commercial district: a beautiful penthouse apartment with a breathtaking view and even the men in their lives, all the while being the best friends in the world: this film reflects upon the strong bonds of female friendship and solidarity as opposed to the norms and conformities of restricted bourgeois society.',\n",
       "   'synopsis': None,\n",
       "   'title': 'Amor libre',\n",
       "   'top_3_cast': [' Julissa\\n', ' Alma Muriel\\n', ' Manuel Ojeda\\n'],\n",
       "   'year': 1979},\n",
       "  {'directors': ['Andrew Bergman'],\n",
       "   'genres': ['Comedy', 'Crime', 'Drama'],\n",
       "   'id': '0117765',\n",
       "   'raiting': 4,\n",
       "   'release_dates': [],\n",
       "   'storyline': \"    Erin Grant loses care and custody of her daughter when she's divorced from her husband Darrell, a small-time thief. Struggling for money, she is a dancer at a nightclub, where one night Congressman Dilbeck (in disguise) attacks another member of the audience. A spectator, who recognizes Dilbeck and is fond of Erin, offers to get back her daughter by blackmailing Dilbeck. Things do not work out as planned, though.\",\n",
       "   'synopsis': None,\n",
       "   'title': 'Striptease',\n",
       "   'top_3_cast': [' Demi Moore\\n', ' Burt Reynolds\\n', ' Armand Assante\\n'],\n",
       "   'year': 1996},\n",
       "  {'directors': ['Ted Demme', 'Richard LaGravenese'],\n",
       "   'genres': ['Documentary'],\n",
       "   'id': '0342275',\n",
       "   'raiting': 8,\n",
       "   'release_dates': [],\n",
       "   'storyline': \"    The 1970s was an extraordinary time of rebellion, of questioning every accepted idea: political activism, hedonism, protests, the sexual revolution, the women's movement, the civil rights movement, the music revolution, rage and liberation. Every standard by which we set our social and cultural clocks was either turned inside out or thrown away completely and reinvented. For American cinema, the 1970s was an era during which a new generation of filmmakers created work for a new kind of audience--moviegoers who were hungry for stories that reflected their own experiences and who were turning their backs on aged old studio formulas. As a result, emerging filmmakers influenced by foreign directors such as Godard, Kurosawa and Fellini coupled with the social climate and a struggling studio system, converged to create a new kind of moviemaking. Through their choice of material, filmmakers such as Francis Ford Coppola, Martin Scorsese, Robert Altman, Peter Bogdanovich, William Friedkin, ...\",\n",
       "   'synopsis': None,\n",
       "   'title': 'A Decade Under the Influence',\n",
       "   'top_3_cast': [' Robert Altman\\n',\n",
       "    ' John G. Avildsen\\n',\n",
       "    ' Warren Beatty\\n'],\n",
       "   'year': 2003},\n",
       "  {'directors': ['Dianne Jackson', 'Jimmy T. Murakami'],\n",
       "   'genres': ['Animation', 'Short', 'Adventure'],\n",
       "   'id': '0084701',\n",
       "   'raiting': 8,\n",
       "   'release_dates': ['26December1982(TVpremiere)(UK)',\n",
       "    '21December1984(TVpremiere)(Netherlands)',\n",
       "    '14December1985(TVpremiere)(Belgium)',\n",
       "    'November1986(videopremiere)(Japan)',\n",
       "    '1991(videopremiere)(Finland)'],\n",
       "   'storyline': '    Wordless (save for the song \"Walking in the Air\") animated adventure about a young English boy who makes a snowman one Christmas Eve, only for it to come to life that night and take him on a magical adventure to the North Pole to meet Santa Claus.',\n",
       "   'synopsis': 'The film depicts the construction and ultimate demolition of a metaphorical wall. Though the film\\'s symbolism is open to interpretation, the wall itself clearly reflects a sense of isolation and alienation.;Pink (Bob Geldof), the protagonist (and unreliable narrator) of the film, is a rock star, one of several reasons behind his apparent depressive and detached emotional state. He is first seen in a quiet hotel room, having trashed it. The opening music is not by Pink Floyd, but is the Vera Lynn recording of \"The Little Boy that Santa Claus Forgot\". During the following scenes, it is revealed that Pink\\'s father, a British soldier, was killed in action during World War II during Pink\\'s infancy. The reference is almost certainly to the death of Roger Waters\\' real-life father, Eric Fletcher Waters, who died in combat in Italy during Operation Shingle (the Battle of Anzio) in February 1944. (\"When The Tigers Broke Free, Part I\"). The stampede of a modern rock concert is compared to soldiers running out of the foxholes to engage in combat (\"In The Flesh?\");The movie then flashes back to Pink as a young English boy growing up in the early 1950s. Pink longs for a father figure (\"Another Brick In The Wall, Part I\"). He discovers a scroll from \"kind old King George\" and other relics from his father\\'s military service and death (\"When The Tigers Broke Free, Part II\"). One item he finds, a bullet, is placed on the track of an oncoming train, where he sees non-descript people riding the train. At school, he is caught writing poems in class and humiliated by the teacher who reads a poem (part of verse 2 of the song \"Money\"). It is revealed that the teacher is verbally abusive to the students because his wife is verbally abusive to him (\"The Happiest Days of Our Lives\"). Young Pink imagines a surrealistically oppressive school system in which children fall into a meat grinder. The children then rise in rebellion and destroy the school, carrying the Teacher away to an unknown fate (\"Another Brick in the Wall (Part 2)\"). Pink is also negatively affected by his overprotective mother (\"Mother\"). Such traumatic experiences are represented as \"bricks\" in the metaphorical wall he constructs around himself that divides him from society (\"Empty Spaces\").;As an adult, Pink eventually marries, but he and his wife soon grow apart. While he is in the United States on tour, Pink learns that his wife is having an affair (\"Young Lust\"). He turns to a willing groupie (Jenny Wright), whom he brings back to his hotel room only to trash it in a fit of violence, terrifying the groupie out of the room (\"One Of My Turns\"). After she leaves screaming, Pink goes into a deep depression (\"Don\\'t Leave Me Now\"). After smashing the TV with his guitar, he vows that he doesn\\'t need \"anyone at all\" (\"Another Brick In The Wall, Part III\"). With that, he mentally completes the wall that he started building to protect himself from being hurt (\"Goodbye Cruel World\").;Pink slowly begins to lose his mind to metaphorical \"worms\". He shaves off all of his body hair (an incident inspired by former band-mate Syd Barrett, who appeared at a 1975 recording session of Wish You Were Here, having shaved his eyebrows and body hair) and, while watching The Dam Busters on television, morphs into his neo-Nazi alter-ego. Pink\\'s manager (Bob Hoskins), along with the hotel manager (Michael Ensign) and some paramedics, break into the hotel room and discover Pink. They take him away into a waiting limousine outside the hotel and inject him with drugs to enable him to perform (\"Comfortably Numb\").;Pink fantasizes that he is a dictator and his concert is a neo-Nazi rally. Nazi-Pink holds a rally, and looks for people who are different, \"queers\", \"coons\", dopers, and orders them \"against the wall\". (\"In The Flesh\"). His followers proceed to attack ethnic minorities (\"Run Like Hell\"), and Pink holds a rally in suburban London (\"Waiting for the Worms\"). The scene is inter-cut with images of animated marching hammers that goose-step across ruins.;Pink then stops hallucinating and screams \"Stop!\" and takes refuge in a bathroom stall at the concert venue, reciting poems which would later be used as lyrics on Pink Floyd\\'s \"Your Possible Pasts\" from The Final Cut album and \"5:11 AM (The Moment Of Clarity)\" from Roger Waters\\' The Pros and Cons of Hitch Hiking.;In a climatic animated sequence, Pink puts himself on trial (\"The Trial\"). He is depicted as a small, pink rag doll that rarely moves. The judge is a giant pair of buttocks, with two backward facing legs, an anus for a mouth and a scrotum for a chin. The lawyer is a tall, menacing, vulture-like man and the schoolmaster is an abusive, hateful marionette. After hearing from the parties and witnesses (Pink\\'s wife and mother), the judge orders the wall to be torn down. The wall explodes and shows a montage of events from the entire film.;The film concludes with three children cleaning up a pile of debris after an earlier riot (\"Outside The Wall\"). It is unknown whatever has happened to Pink, leaving the viewer to decide.',\n",
       "   'title': 'The Snowman',\n",
       "   'top_3_cast': [' David Bowie\\n', ' Raymond Briggs\\n'],\n",
       "   'year': 1982}]}"
      ]
     },
     "execution_count": 3,
     "metadata": {},
     "output_type": "execute_result"
    }
   ],
   "source": [
    "res=requests.get('http://127.0.0.1:5000/movies/api/imdb',\n",
    "                 auth=('developer','rtfP@ssw0rd'))\n",
    "res.json()"
   ]
  },
  {
   "cell_type": "markdown",
   "metadata": {},
   "source": [
    "### get_movie(movie_id) (GET)\n",
    "\n",
    "Получить фильм по id"
   ]
  },
  {
   "cell_type": "code",
   "execution_count": 4,
   "metadata": {},
   "outputs": [
    {
     "data": {
      "text/plain": [
       "{'movie': [{'directors': ['John Cameron Mitchell'],\n",
       "   'genres': ['Drama', 'Romance'],\n",
       "   'id': '0367027',\n",
       "   'raiting': 7,\n",
       "   'release_dates': ['14September2004(TorontoInternationalFilmFestival)(Canada)',\n",
       "    '7October2004(DinardFestivalofBritishCinema)(France)',\n",
       "    '23October2004(LondonFilmFestival)(UK)',\n",
       "    '12November2004(CardiffScreenFestival)(UK)',\n",
       "    '3February2005(SantaBarbaraFilmFestival)(USA)',\n",
       "    '17February2005(BoulderInternationalFilmFestival)(UK)',\n",
       "    \"4March2005(NewYorkInternationalChildren'sFilmFestival)(premiere)(USA)\",\n",
       "    '11March2005(limited)(USA)',\n",
       "    '18March2005(ClevelandInternationalFilmFestival)(USA)',\n",
       "    '8April2005(Italy)',\n",
       "    '21April2005(Singapore)',\n",
       "    '22April2005(Spain)',\n",
       "    '29April2005(USA)',\n",
       "    '30April2005(CommonwealthFilmFestival)(UK)',\n",
       "    '4May2005(SouthKorea)',\n",
       "    '12May2005(Germanspeakingregion)(Switzerland)',\n",
       "    '27May2005(UK)',\n",
       "    '27May2005(Ireland)',\n",
       "    'July2005(DVDpremiere)(Russia)',\n",
       "    'July2005(DVDpremiere)(Ukraine)',\n",
       "    '6July2005(France)',\n",
       "    '7July2005(Netherlands)',\n",
       "    '8July2005(limited)(Brazil)',\n",
       "    '14July2005(Portugal)',\n",
       "    '4August2005(Israel)',\n",
       "    '11August2005(Australia)',\n",
       "    '25August2005(Germany)',\n",
       "    '26August2005(Austria)',\n",
       "    '26August2005(EspooFilmFestival)(Finland)',\n",
       "    '31August2005(Belgium)',\n",
       "    '2September2005(MexicoCity)(Mexico)',\n",
       "    '15September2005(limited)(Greece)',\n",
       "    '22September2005(CineEuropaFilmFestival)(Philippines)',\n",
       "    '23September2005(Norway)',\n",
       "    '23September2005(Sweden)',\n",
       "    '20October2005(Argentina)',\n",
       "    '24November2005(HongKong)',\n",
       "    '2December2005(Turkey)',\n",
       "    '16December2005(Finland)',\n",
       "    '25January2006(Egypt)',\n",
       "    '1February2006(DVDpremiere)(Hungary)',\n",
       "    '24February2006(BangkokInternationalFilmFestival)(Thailand)',\n",
       "    '20October2006(Bulgaria)'],\n",
       "   'storyline': '    Numerous New York City dwellers come to the exclusive club Shortbus to work out problems in their sexual relationships. Rob and Sophia are a happily married couple, except for the fact that she has never experienced sexual climax. This irony follows her to work because she is a couples counselor who frequently has to deal with the sexual issues other couples have. Two of her patients are Jamie and James, a gay couple who have been monogamous for five years and counting. James wants to bring other men in to the relationship, and his own history with depression may hint at an ulterior motive. Ceth (pronounced Seth) may be the perfect addition to their family, but Caleb, a voyeur from across the street, may have his own ideas about that. Sophia visits Severin, a dominatrix with secrets of her own to reveal.',\n",
       "   'synopsis': None,\n",
       "   'title': 'Shortbus',\n",
       "   'top_3_cast': [' Paul Dawson\\n', ' Lindsay Beamish\\n', ' Adam Hardman\\n'],\n",
       "   'year': 2006}]}"
      ]
     },
     "execution_count": 4,
     "metadata": {},
     "output_type": "execute_result"
    }
   ],
   "source": [
    "res=requests.get('http://127.0.0.1:5000/movies/api/imdb/0367027',\n",
    "                 auth=('developer','rtfP@ssw0rd'))\n",
    "res.json()"
   ]
  },
  {
   "cell_type": "markdown",
   "metadata": {},
   "source": [
    "### add_movie() (POST)\n",
    "\n",
    "Добавить фильм в базу данных"
   ]
  },
  {
   "cell_type": "code",
   "execution_count": 54,
   "metadata": {},
   "outputs": [
    {
     "data": {
      "text/plain": [
       "{'movie': {'directors': None,\n",
       "  'genres': None,\n",
       "  'id': '0000000',\n",
       "  'raiting': None,\n",
       "  'release_dates': None,\n",
       "  'storyline': None,\n",
       "  'synopsis': None,\n",
       "  'title': 'Blackbook',\n",
       "  'top_3_cast': None,\n",
       "  'year': None}}"
      ]
     },
     "execution_count": 54,
     "metadata": {},
     "output_type": "execute_result"
    }
   ],
   "source": [
    "res=requests.post('http://127.0.0.1:5000/movies/api/imdb',\n",
    "                  auth=('developer','rtfP@ssw0rd'),\n",
    "                  data=json.dumps({\"id\":\"0000000\",\"title\":\"Blackbook\"}),\n",
    "                 headers={\"Content-Type\": \"application/json\"})\n",
    "res.json()"
   ]
  },
  {
   "cell_type": "markdown",
   "metadata": {},
   "source": [
    "### update_movie(movie_id) (PUT)\n",
    "\n",
    "Обновить информацию о фильме"
   ]
  },
  {
   "cell_type": "code",
   "execution_count": 55,
   "metadata": {},
   "outputs": [
    {
     "data": {
      "text/plain": [
       "{'movie': {'directors': None,\n",
       "  'genres': None,\n",
       "  'id': '0000000',\n",
       "  'raiting': None,\n",
       "  'release_dates': None,\n",
       "  'storyline': None,\n",
       "  'synopsis': None,\n",
       "  'title': 'Black book',\n",
       "  'top_3_cast': None,\n",
       "  'year': None}}"
      ]
     },
     "execution_count": 55,
     "metadata": {},
     "output_type": "execute_result"
    }
   ],
   "source": [
    "res=requests.put('http://127.0.0.1:5000/movies/api/imdb/0000000',\n",
    "                  auth=('developer','rtfP@ssw0rd'),\n",
    "                  data=json.dumps({\"title\":\"Black book\"}),\n",
    "                 headers={\"Content-Type\": \"application/json\"})\n",
    "res.json()"
   ]
  },
  {
   "cell_type": "markdown",
   "metadata": {},
   "source": [
    "### delete_movie(movie_id) (DELETE)\n",
    "\n",
    "Удалить фильм по id"
   ]
  },
  {
   "cell_type": "code",
   "execution_count": 52,
   "metadata": {},
   "outputs": [
    {
     "data": {
      "text/plain": [
       "{'result': True}"
      ]
     },
     "execution_count": 52,
     "metadata": {},
     "output_type": "execute_result"
    }
   ],
   "source": [
    "res=requests.delete('http://127.0.0.1:5000/movies/api/imdb/0000000',\n",
    "                    auth=('developer','rtfP@ssw0rd'))\n",
    "res.json()"
   ]
  }
 ],
 "metadata": {
  "kernelspec": {
   "display_name": "Python 3",
   "language": "python",
   "name": "python3"
  },
  "language_info": {
   "codemirror_mode": {
    "name": "ipython",
    "version": 3
   },
   "file_extension": ".py",
   "mimetype": "text/x-python",
   "name": "python",
   "nbconvert_exporter": "python",
   "pygments_lexer": "ipython3",
   "version": "3.6.2"
  }
 },
 "nbformat": 4,
 "nbformat_minor": 2
}
