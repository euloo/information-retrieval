{
 "cells": [
  {
   "cell_type": "markdown",
   "metadata": {
    "collapsed": true
   },
   "source": [
    "# REST API\n",
    "1. Заполните строку подключения в [rest_api.py](/rest_api.py)\n",
    "~~~\n",
    "con_str=\"\"\"user='     ' password='     ' host='     ' port='     ' dbname='     '\"\"\"\n",
    "~~~\n",
    "2. [Включите](https://www.youtube.com/watch?v=dQw4w9WgXcQ)\n",
    "\n",
    "3. Запустите [rest_api.py](/rest_api.py)\n",
    "![Alt text](images/rest_api.PNG?raw=true \"Title\")"
   ]
  },
  {
   "cell_type": "code",
   "execution_count": 11,
   "metadata": {},
   "outputs": [],
   "source": [
    "import requests\n",
    "import json"
   ]
  },
  {
   "cell_type": "markdown",
   "metadata": {},
   "source": [
    "Заполните:"
   ]
  },
  {
   "cell_type": "code",
   "execution_count": 12,
   "metadata": {},
   "outputs": [],
   "source": [
    "host = \"localhost\" # 127.0.0.1\n",
    "port = \"5000\"\n",
    "username = \"   \"\n",
    "password = \"   \""
   ]
  },
  {
   "cell_type": "markdown",
   "metadata": {},
   "source": [
    "## 1. Список фильмов\n",
    "LIMIT 3\n",
    "\n",
    "```\n",
    "/movies\n",
    "```\n",
    "### curl"
   ]
  },
  {
   "cell_type": "code",
   "execution_count": 13,
   "metadata": {},
   "outputs": [
    {
     "name": "stdout",
     "output_type": "stream",
     "text": [
      "HTTP/1.0 200 OK\n",
      "Content-Type: application/json\n",
      "Content-Length: 261\n",
      "Server: Werkzeug/0.15.2 Python/3.6.7\n",
      "Date: Fri, 26 Apr 2019 09:59:12 GMT\n",
      "\n",
      "{\n",
      "  \"movies\": [\n",
      "    {\n",
      "      \"id\": \"0000008\", \n",
      "      \"title\": \"Edison Kinetoscopic Record of a Sneeze\"\n",
      "    }, \n",
      "    {\n",
      "      \"id\": \"0006689\", \n",
      "      \"title\": \"The Floorwalker\"\n",
      "    }, \n",
      "    {\n",
      "      \"id\": \"0012364\", \n",
      "      \"title\": \"The Phantom Carriage\"\n",
      "    }\n",
      "  ]\n",
      "}\n"
     ]
    },
    {
     "name": "stderr",
     "output_type": "stream",
     "text": [
      "  % Total    % Received % Xferd  Average Speed   Time    Time     Time  Current\n",
      "                                 Dload  Upload   Total   Spent    Left  Speed\n",
      "\n",
      "  0     0    0     0    0     0      0      0 --:--:-- --:--:-- --:--:--     0\n",
      "  0     0    0     0    0     0      0      0 --:--:--  0:00:01 --:--:--     0\n",
      "  0     0    0     0    0     0      0      0 --:--:--  0:00:02 --:--:--     0\n",
      "  0     0    0     0    0     0      0      0 --:--:--  0:00:02 --:--:--     0\n",
      "100   261  100   261    0     0    102      0  0:00:02  0:00:02 --:--:--   102\n"
     ]
    }
   ],
   "source": [
    "!curl -i http://{host}:{port}/movies -u {username}:{password}"
   ]
  },
  {
   "cell_type": "markdown",
   "metadata": {},
   "source": [
    "### python"
   ]
  },
  {
   "cell_type": "code",
   "execution_count": 14,
   "metadata": {},
   "outputs": [
    {
     "data": {
      "text/plain": [
       "{'movies': [{'id': '0000008',\n",
       "   'title': 'Edison Kinetoscopic Record of a Sneeze'},\n",
       "  {'id': '0006689', 'title': 'The Floorwalker'},\n",
       "  {'id': '0012364', 'title': 'The Phantom Carriage'}]}"
      ]
     },
     "execution_count": 14,
     "metadata": {},
     "output_type": "execute_result"
    }
   ],
   "source": [
    "res = requests.get(\"http://\" + host + \":\" + port + \"/movies\",\n",
    "                 auth=(username,password))\n",
    "res.json()"
   ]
  },
  {
   "cell_type": "markdown",
   "metadata": {},
   "source": [
    "## 2. Список фильмов с фильтром по жанру\n",
    "```\n",
    "/movies?genre={genre}\n",
    "```\n",
    "### curl"
   ]
  },
  {
   "cell_type": "code",
   "execution_count": 15,
   "metadata": {},
   "outputs": [],
   "source": [
    "genre = \"Crime\""
   ]
  },
  {
   "cell_type": "code",
   "execution_count": 16,
   "metadata": {},
   "outputs": [
    {
     "name": "stdout",
     "output_type": "stream",
     "text": [
      "HTTP/1.0 200 OK\n",
      "Content-Type: application/json\n",
      "Content-Length: 244\n",
      "Server: Werkzeug/0.15.2 Python/3.6.7\n",
      "Date: Fri, 26 Apr 2019 09:59:36 GMT\n",
      "\n",
      "{\n",
      "  \"movies\": [\n",
      "    {\n",
      "      \"id\": \"0028241\", \n",
      "      \"title\": \"Shadow of Chinatown\"\n",
      "    }, \n",
      "    {\n",
      "      \"id\": \"0031867\", \n",
      "      \"title\": \"The Roaring Twenties\"\n",
      "    }, \n",
      "    {\n",
      "      \"id\": \"0035432\", \n",
      "      \"title\": \"This Gun for Hire\"\n",
      "    }\n",
      "  ]\n",
      "}\n"
     ]
    },
    {
     "name": "stderr",
     "output_type": "stream",
     "text": [
      "  % Total    % Received % Xferd  Average Speed   Time    Time     Time  Current\n",
      "                                 Dload  Upload   Total   Spent    Left  Speed\n",
      "\n",
      "  0     0    0     0    0     0      0      0 --:--:-- --:--:-- --:--:--     0\n",
      "  0     0    0     0    0     0      0      0 --:--:-- --:--:-- --:--:--     0\n",
      "  0     0    0     0    0     0      0      0 --:--:--  0:00:01 --:--:--     0\n",
      "  0     0    0     0    0     0      0      0 --:--:--  0:00:02 --:--:--     0\n",
      "100   244  100   244    0     0     97      0  0:00:02  0:00:02 --:--:--    97\n"
     ]
    }
   ],
   "source": [
    "!curl -i http://{host}:{port}/movies?genre={genre} -u {username}:{password}"
   ]
  },
  {
   "cell_type": "markdown",
   "metadata": {},
   "source": [
    "### python"
   ]
  },
  {
   "cell_type": "code",
   "execution_count": 17,
   "metadata": {},
   "outputs": [
    {
     "data": {
      "text/plain": [
       "{'movies': [{'id': '0028241', 'title': 'Shadow of Chinatown'},\n",
       "  {'id': '0031867', 'title': 'The Roaring Twenties'},\n",
       "  {'id': '0035432', 'title': 'This Gun for Hire'}]}"
      ]
     },
     "execution_count": 17,
     "metadata": {},
     "output_type": "execute_result"
    }
   ],
   "source": [
    "res = requests.get(\"http://\" + host + \":\" + port + \"/movies?genre=\" + genre,\n",
    "                 auth=(username,password))\n",
    "res.json()"
   ]
  },
  {
   "cell_type": "markdown",
   "metadata": {},
   "source": [
    "## 3. Список фильмов с фильтром по году выпуска\n",
    "```\n",
    "/movies?year={year}\n",
    "```\n",
    "### curl"
   ]
  },
  {
   "cell_type": "code",
   "execution_count": 18,
   "metadata": {},
   "outputs": [],
   "source": [
    "year = \"1992\""
   ]
  },
  {
   "cell_type": "code",
   "execution_count": 19,
   "metadata": {},
   "outputs": [
    {
     "name": "stdout",
     "output_type": "stream",
     "text": [
      "HTTP/1.0 200 OK\n",
      "Content-Type: application/json\n",
      "Content-Length: 240\n",
      "Server: Werkzeug/0.15.2 Python/3.6.7\n",
      "Date: Fri, 26 Apr 2019 09:59:49 GMT\n",
      "\n",
      "{\n",
      "  \"movies\": [\n",
      "    {\n",
      "      \"id\": \"0099055\", \n",
      "      \"title\": \"The Argon Quest\"\n",
      "    }, \n",
      "    {\n",
      "      \"id\": \"0105151\", \n",
      "      \"title\": \"The Player\"\n",
      "    }, \n",
      "    {\n",
      "      \"id\": \"0104850\", \n",
      "      \"title\": \"Memoirs of an Invisible Man\"\n",
      "    }\n",
      "  ]\n",
      "}\n"
     ]
    },
    {
     "name": "stderr",
     "output_type": "stream",
     "text": [
      "  % Total    % Received % Xferd  Average Speed   Time    Time     Time  Current\n",
      "                                 Dload  Upload   Total   Spent    Left  Speed\n",
      "\n",
      "  0     0    0     0    0     0      0      0 --:--:-- --:--:-- --:--:--     0\n",
      "  0     0    0     0    0     0      0      0 --:--:--  0:00:01 --:--:--     0\n",
      "  0     0    0     0    0     0      0      0 --:--:--  0:00:02 --:--:--     0\n",
      "100   240  100   240    0     0     93      0  0:00:02  0:00:02 --:--:--    93\n"
     ]
    }
   ],
   "source": [
    "!curl -i http://{host}:{port}/movies?year={year} -u {username}:{password}"
   ]
  },
  {
   "cell_type": "markdown",
   "metadata": {},
   "source": [
    "### python"
   ]
  },
  {
   "cell_type": "code",
   "execution_count": 20,
   "metadata": {},
   "outputs": [
    {
     "data": {
      "text/plain": [
       "{'movies': [{'id': '0099055', 'title': 'The Argon Quest'},\n",
       "  {'id': '0105151', 'title': 'The Player'},\n",
       "  {'id': '0104850', 'title': 'Memoirs of an Invisible Man'}]}"
      ]
     },
     "execution_count": 20,
     "metadata": {},
     "output_type": "execute_result"
    }
   ],
   "source": [
    "res = requests.get(\"http://\" + host + \":\" + port + \"/movies?year=\" + year,\n",
    "                 auth=(username,password))\n",
    "res.json()"
   ]
  },
  {
   "cell_type": "markdown",
   "metadata": {},
   "source": [
    "## 4. Список фильмов с фильтром по режиссёру выпуска\n",
    "```\n",
    "/movies?director={director}\n",
    "```\n",
    "### curl"
   ]
  },
  {
   "cell_type": "code",
   "execution_count": 21,
   "metadata": {},
   "outputs": [],
   "source": [
    "director = \"Quentin+Tarantino\""
   ]
  },
  {
   "cell_type": "code",
   "execution_count": 22,
   "metadata": {},
   "outputs": [
    {
     "name": "stdout",
     "output_type": "stream",
     "text": [
      "HTTP/1.0 200 OK\n",
      "Content-Type: application/json\n",
      "Content-Length: 236\n",
      "Server: Werkzeug/0.15.2 Python/3.6.7\n",
      "Date: Fri, 26 Apr 2019 09:59:55 GMT\n",
      "\n",
      "{\n",
      "  \"movies\": [\n",
      "    {\n",
      "      \"id\": \"0361748\", \n",
      "      \"title\": \"Inglourious Basterds\"\n",
      "    }, \n",
      "    {\n",
      "      \"id\": \"0378194\", \n",
      "      \"title\": \"Kill Bill: Vol. 2\"\n",
      "    }, \n",
      "    {\n",
      "      \"id\": \"1028528\", \n",
      "      \"title\": \"Death Proof\"\n",
      "    }\n",
      "  ]\n",
      "}\n"
     ]
    },
    {
     "name": "stderr",
     "output_type": "stream",
     "text": [
      "  % Total    % Received % Xferd  Average Speed   Time    Time     Time  Current\n",
      "                                 Dload  Upload   Total   Spent    Left  Speed\n",
      "\n",
      "  0     0    0     0    0     0      0      0 --:--:-- --:--:-- --:--:--     0\n",
      "  0     0    0     0    0     0      0      0 --:--:--  0:00:01 --:--:--     0\n",
      "  0     0    0     0    0     0      0      0 --:--:--  0:00:02 --:--:--     0\n",
      "100   236  100   236    0     0     93      0  0:00:02  0:00:02 --:--:--    93\n"
     ]
    }
   ],
   "source": [
    "!curl -i http://{host}:{port}/movies?director={director} -u {username}:{password}"
   ]
  },
  {
   "cell_type": "markdown",
   "metadata": {},
   "source": [
    "### python"
   ]
  },
  {
   "cell_type": "code",
   "execution_count": 23,
   "metadata": {},
   "outputs": [
    {
     "data": {
      "text/plain": [
       "{'movies': [{'id': '0361748', 'title': 'Inglourious Basterds'},\n",
       "  {'id': '0378194', 'title': 'Kill Bill: Vol. 2'},\n",
       "  {'id': '1028528', 'title': 'Death Proof'}]}"
      ]
     },
     "execution_count": 23,
     "metadata": {},
     "output_type": "execute_result"
    }
   ],
   "source": [
    "res = requests.get(\"http://\" + host + \":\" + port + \"/movies?director=\" + director,\n",
    "                 auth=(username,password))\n",
    "res.json()"
   ]
  },
  {
   "cell_type": "markdown",
   "metadata": {},
   "source": [
    "## 5. Информация о фильме\n",
    "```\n",
    "/movies/{id}\n",
    "```\n",
    "### curl"
   ]
  },
  {
   "cell_type": "code",
   "execution_count": 24,
   "metadata": {},
   "outputs": [],
   "source": [
    "id = \"0105236\""
   ]
  },
  {
   "cell_type": "code",
   "execution_count": 25,
   "metadata": {},
   "outputs": [
    {
     "name": "stdout",
     "output_type": "stream",
     "text": [
      "HTTP/1.0 200 OK\n",
      "Content-Type: application/json\n",
      "Content-Length: 1152\n",
      "Server: Werkzeug/0.15.2 Python/3.6.7\n",
      "Date: Fri, 26 Apr 2019 10:00:01 GMT\n",
      "\n",
      "{\n",
      "  \"movie\": [\n",
      "    {\n",
      "      \"directors\": [\n",
      "        \"Quentin Tarantino\"\n",
      "      ], \n",
      "      \"genres\": [\n",
      "        \"Crime\", \n",
      "        \"Drama\", \n",
      "        \"Thriller\"\n",
      "      ], \n",
      "      \"id\": \"0105236\", \n",
      "      \"ratingz\": 8, \n",
      "      \"release_dates\": [], \n",
      "      \"storyline\": \"    Six criminals, who are strangers to each other, are hired by a crime boss, Joe Cabot, to carry out a diamond robbery. Right at the outset, they are given false names with the intention that they won't get too close and will concentrate on the job instead. They are completely sure that the robbery is going to be a success. But, when the police show up right at the time and the site of the robbery, panic spreads amongst the group members, and two of them are killed in the subsequent shootout, along with a few policemen and civilians. When the remaining people assemble at the premeditated rendezvous point (a warehouse), they begin to suspect that one of them is an undercover cop.\", \n",
      "      \"synopsis\": null, \n",
      "      \"title\": \"Reservoir Dogs\", \n",
      "      \"top_3_cast\": [\n",
      "        \" Harvey Keitel\\n\", \n",
      "        \" Tim Roth\\n\", \n",
      "        \" Michael Madsen\\n\"\n",
      "      ], \n",
      "      \"year\": 1992\n",
      "    }\n",
      "  ]\n",
      "}\n"
     ]
    },
    {
     "name": "stderr",
     "output_type": "stream",
     "text": [
      "  % Total    % Received % Xferd  Average Speed   Time    Time     Time  Current\n",
      "                                 Dload  Upload   Total   Spent    Left  Speed\n",
      "\n",
      "  0     0    0     0    0     0      0      0 --:--:-- --:--:-- --:--:--     0\n",
      "  0     0    0     0    0     0      0      0 --:--:-- --:--:-- --:--:--     0\n",
      "  0     0    0     0    0     0      0      0 --:--:--  0:00:01 --:--:--     0\n",
      "  0     0    0     0    0     0      0      0 --:--:--  0:00:02 --:--:--     0\n",
      "100  1152  100  1152    0     0    463      0  0:00:02  0:00:02 --:--:--   463\n"
     ]
    }
   ],
   "source": [
    "!curl -i http://{host}:{port}/movies/{id} -u {username}:{password}"
   ]
  },
  {
   "cell_type": "markdown",
   "metadata": {},
   "source": [
    "### python"
   ]
  },
  {
   "cell_type": "code",
   "execution_count": 26,
   "metadata": {},
   "outputs": [
    {
     "data": {
      "text/plain": [
       "{'movie': [{'directors': ['Quentin Tarantino'],\n",
       "   'genres': ['Crime', 'Drama', 'Thriller'],\n",
       "   'id': '0105236',\n",
       "   'ratingz': 8,\n",
       "   'release_dates': [],\n",
       "   'storyline': \"    Six criminals, who are strangers to each other, are hired by a crime boss, Joe Cabot, to carry out a diamond robbery. Right at the outset, they are given false names with the intention that they won't get too close and will concentrate on the job instead. They are completely sure that the robbery is going to be a success. But, when the police show up right at the time and the site of the robbery, panic spreads amongst the group members, and two of them are killed in the subsequent shootout, along with a few policemen and civilians. When the remaining people assemble at the premeditated rendezvous point (a warehouse), they begin to suspect that one of them is an undercover cop.\",\n",
       "   'synopsis': None,\n",
       "   'title': 'Reservoir Dogs',\n",
       "   'top_3_cast': [' Harvey Keitel\\n', ' Tim Roth\\n', ' Michael Madsen\\n'],\n",
       "   'year': 1992}]}"
      ]
     },
     "execution_count": 26,
     "metadata": {},
     "output_type": "execute_result"
    }
   ],
   "source": [
    "res=requests.get(\"http://\" + host + \":\" + port + \"/movies/\" + id,\n",
    "                 auth=(username,password))\n",
    "res.json()"
   ]
  }
 ],
 "metadata": {
  "kernelspec": {
   "display_name": "Python 3",
   "language": "python",
   "name": "python3"
  },
  "language_info": {
   "codemirror_mode": {
    "name": "ipython",
    "version": 3
   },
   "file_extension": ".py",
   "mimetype": "text/x-python",
   "name": "python",
   "nbconvert_exporter": "python",
   "pygments_lexer": "ipython3",
   "version": "3.6.7"
  }
 },
 "nbformat": 4,
 "nbformat_minor": 2
}
